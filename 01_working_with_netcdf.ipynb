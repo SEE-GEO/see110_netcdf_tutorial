{
 "cells": [
  {
   "cell_type": "markdown",
   "id": "3dadee8f-2f8a-4f49-8a93-8c7ecd10dce8",
   "metadata": {},
   "source": [
    "# Läsa och analysera NetCDF filer med Python, Xarray och matplotlib\n",
    "\n",
    "Detta är en kort notebook, där vi introducerar hur man kan använda Python för att läsa och analysera NetCDF-filer.\n",
    "\n",
    "Vi kommer använda biblioteket [Xarray](https://docs.xarray.dev/en/stable/index.html) för att hantera NetCDF-data och [matplotlib](https://matplotlib.org/) och [cartopy](https://scitools.org.uk/cartopy/docs/latest/index.html) för visualiseringar.\n"
   ]
  },
  {
   "cell_type": "code",
   "execution_count": null,
   "id": "155c8120-7f3e-4187-974f-d1b8c0d32aee",
   "metadata": {},
   "outputs": [],
   "source": [
    "import cartopy.crs as ccrs\n",
    "import matplotlib.pyplot as plt\n",
    "import xarray as xr"
   ]
  },
  {
   "cell_type": "markdown",
   "id": "dc054abe-5a29-46b3-8378-e3f6ff33e622",
   "metadata": {},
   "source": [
    "## Läsa in data\n",
    "\n",
    "<div class=\"alert alert-info alert-block\">\n",
    "    <b>Info:</b> För att följa med i denna notebooken behöver du  <a href=\"https://chalmers-my.sharepoint.com/:u:/r/personal/ihannah_chalmers_se/Documents/Klimatmodellering/CMIP6%20data/2024/Project1/piControl/UK-ESM/tas_Amon_UKESM1-0-LL_piControl_r1i1p1f2_gn_196001-204912.nc?csf=1&web=1&e=s57Sm1\" rel=\"noopener\" target=\"_blank\"><b>ladda ner denna filen</b></a> och spara den på samma plats som din kopia av den här notebooken.\n",
    "</div>\n",
    "\n"
   ]
  },
  {
   "cell_type": "code",
   "execution_count": null,
   "id": "edc0b5bf-ca12-4804-9f0d-861cdb192150",
   "metadata": {},
   "outputs": [],
   "source": [
    "file = \"tas_Amon_UKESM1-0-LL_piControl_r1i1p1f2_gn_196001-204912.nc\""
   ]
  },
  {
   "cell_type": "markdown",
   "id": "cba40c46-b7c1-4114-b1a4-b611dab5dd6d",
   "metadata": {},
   "source": [
    "Vi öppnar filen med funktionen `xr.open_dataset()`"
   ]
  },
  {
   "cell_type": "code",
   "execution_count": null,
   "id": "b7f3b305-6187-45ef-b707-4656a0a36b81",
   "metadata": {},
   "outputs": [],
   "source": [
    "ds = xr.open_dataset(file)"
   ]
  },
  {
   "cell_type": "markdown",
   "id": "99fc6d2c-fac5-4a66-a57c-f0b29e446c69",
   "metadata": {},
   "source": [
    "Detta returnerar ett så kallat `Dataset`, vilket ger oss en användarvänlig representation av filens innehåll: datavariabler, koordinater, och metadata.\n",
    "\n",
    "Exekverar vi en cell med endast variabeln `ds` returneras en interaktiv vy av datasetet.\n",
    "Notera att det går att klicka på flera av ikonerna i tabellen nedan vilket visar mer av metadatan för en variabel."
   ]
  },
  {
   "cell_type": "code",
   "execution_count": null,
   "id": "5369ba32-2033-47e4-88c3-85527101281a",
   "metadata": {},
   "outputs": [],
   "source": [
    "ds"
   ]
  },
  {
   "cell_type": "markdown",
   "id": "b98391dc-c66a-4c4a-a5df-40faee1a7486",
   "metadata": {},
   "source": [
    "Ovan ser vi till exempel att filen innehåller 1080 tidssteg, 144 latituder, och 192 longituder."
   ]
  },
  {
   "cell_type": "markdown",
   "id": "0e68ff85-6257-4d40-95d7-508d4b34e74c",
   "metadata": {},
   "source": [
    "Datavariabeln vi är intresserade av är den som heter `tas`.\n",
    "\n",
    "<div class=\"alert alert-success alert-block\">\n",
    "    <b>Uppgift:</b> Variabeln <code>tas</code> har ett så kallat <code>long_name</code>, vad är det?\n",
    "</div>"
   ]
  },
  {
   "cell_type": "markdown",
   "id": "20f5d17d-578e-4c4c-9bc0-3f6543952ae8",
   "metadata": {},
   "source": [
    "Det finns två sätt att komma åt variabeln `tas`:"
   ]
  },
  {
   "cell_type": "code",
   "execution_count": null,
   "id": "408247d0-0265-4116-9fd4-2a8561af261e",
   "metadata": {},
   "outputs": [],
   "source": [
    "ds.tas"
   ]
  },
  {
   "cell_type": "markdown",
   "id": "73e2df1e-abfb-49a0-a708-a5fa5a3ad591",
   "metadata": {},
   "source": [
    "eller"
   ]
  },
  {
   "cell_type": "code",
   "execution_count": null,
   "id": "fba3cc2d-298d-44c3-9403-8c1eb3ff5c87",
   "metadata": {},
   "outputs": [],
   "source": [
    "ds[\"tas\"]"
   ]
  },
  {
   "cell_type": "markdown",
   "id": "beb53652-1883-4890-9f64-a92fb17391e7",
   "metadata": {},
   "source": [
    "`ds.tas` är en `xarray.DataArray` vilken kan liknas till en Numpy-array, men den nyttjar att dimensionerna är namngivna.\n",
    "Ett dataset kan hålla flera datavariabler som delar samma koordinater t.ex. tid, latitud och longitud."
   ]
  },
  {
   "cell_type": "markdown",
   "id": "a605f9e3-fa77-4154-840f-749319481a3d",
   "metadata": {},
   "source": [
    "## Analysera och visualisera NetCDF-data\n",
    "Xarray gör det enkelt att analysera datan in en NetCDF-fil.\n",
    "Vill vi beräkna medelvärdet av en variabel använder vi metoden `.mean()`:"
   ]
  },
  {
   "cell_type": "code",
   "execution_count": null,
   "id": "fd1c3c2d-19b2-46a5-849d-a599e0cffbf1",
   "metadata": {},
   "outputs": [],
   "source": [
    "ds.tas.mean()"
   ]
  },
  {
   "cell_type": "markdown",
   "id": "db47485b-b2b7-4a82-8ca8-26f3e493eca7",
   "metadata": {},
   "source": [
    "Vi kan också specificera vilken dimension vi vill att medelvärdet ska beräknas över:"
   ]
  },
  {
   "cell_type": "code",
   "execution_count": null,
   "id": "f87349ea-e5bd-4a99-922c-f43b4709e3aa",
   "metadata": {},
   "outputs": [],
   "source": [
    "ds.tas.mean(dim=\"time\")"
   ]
  },
  {
   "cell_type": "markdown",
   "id": "4d31ae4f-025c-4a0f-9dd3-5279049a806c",
   "metadata": {},
   "source": [
    "Detta kommer beräkna medelvärdet över tidsaxeln, resultatet kommer alltså innehålla medelvärdet för varje gridpunkt (latitud och longitud).\n",
    "\n",
    "Det finns många fler inbyggda metoder t.ex. `max()`, `min()` och `std()`.\n",
    "Som alltid, konsultera [dokumentationen](https://docs.xarray.dev/en/stable/index.html) och din favoritsökmotor."
   ]
  },
  {
   "cell_type": "markdown",
   "id": "ec523eab-ad90-4dbe-8a68-a22d4a994b30",
   "metadata": {},
   "source": [
    "Xarray gör det också enkelt att visualisera datan.\n",
    "För en datavariabel finns metoden `plot`.\n",
    "Använder vi `plot` direkt på en 3-dimensionell variable (tid, latitud, longitud) kommer vi få ett histogram."
   ]
  },
  {
   "cell_type": "code",
   "execution_count": null,
   "id": "d9224e1e-2c40-4572-bf9f-65c98c7bad44",
   "metadata": {},
   "outputs": [],
   "source": [
    "ds.tas.plot();"
   ]
  },
  {
   "cell_type": "markdown",
   "id": "c32bddb5-8514-40e8-bb47-0ac75351d4f0",
   "metadata": {},
   "source": [
    "För att skapa andra plot-typer behöver vi reducera dimensionerna av vår data.\n",
    "Detta kan vi göra genom att antingen beräkna t.ex. ett medelvärde över en viss dimension. \n",
    "Här beräknar vi medelvärdet av tidsdimensionen.\n",
    "Plottar vi sedan detta får vi en karta med ett så kallat `pcolormesh`."
   ]
  },
  {
   "cell_type": "code",
   "execution_count": null,
   "id": "9b969725-5fbe-42c0-83cc-cf674f74abec",
   "metadata": {},
   "outputs": [],
   "source": [
    "ds.tas.mean(dim=\"time\").plot();"
   ]
  },
  {
   "cell_type": "markdown",
   "id": "90e8b5ce-664f-47fc-89c4-079cc98c6789",
   "metadata": {},
   "source": [
    "<div class=\"alert alert-info\">\n",
    "    <b>Info:</b> Notera att xarray automatiskt lägger till x- och y-labels, en colorbar, och en titel (även om denna inte är särskilt bra).\n",
    "</div>"
   ]
  },
  {
   "cell_type": "markdown",
   "id": "0a6c7add-b325-4f9a-a007-a6bf06bf48bb",
   "metadata": {},
   "source": [
    "### Indexera data\n",
    "I fallet att vi är intresserade av en specifik punkt (eller slice) i vår data kan vi **indexera** likt en Numpy-array:"
   ]
  },
  {
   "cell_type": "code",
   "execution_count": null,
   "id": "ee2d2c54-0247-42ce-8616-9890f9b6ba0a",
   "metadata": {},
   "outputs": [],
   "source": [
    "ds.tas[5]"
   ]
  },
  {
   "cell_type": "markdown",
   "id": "8c69f76a-d442-4b9c-a949-e7a0aa931b76",
   "metadata": {},
   "source": [
    "Här har vi valt ut det femte värdet längs den första dimensionen (tid).\n",
    "Den här indexering fungerar precis som den för Numpy-array, alltså kan vi specificera fler index:"
   ]
  },
  {
   "cell_type": "code",
   "execution_count": null,
   "id": "c5fde805-ec8c-4cea-87c6-318ae4335093",
   "metadata": {},
   "outputs": [],
   "source": [
    "ds.tas[5, 2, 0:5]"
   ]
  },
  {
   "cell_type": "markdown",
   "id": "d7b0cc33-ddcf-4a48-8ed1-3af32bbc7f69",
   "metadata": {},
   "source": [
    "Men styrkan i xarray ligger i att kunna nyttja att dimensionerna har namn och att det är känt vad datan beskriver.\n",
    "Är vi intresserade av temperaturerna för ett mindre område under 1990-talet kan vi använda metoden `sel()` för att välja ut data baserat på koordinatens värde."
   ]
  },
  {
   "cell_type": "code",
   "execution_count": null,
   "id": "5b9f8cbc-7df6-4c55-8c91-e44bee0b4b22",
   "metadata": {},
   "outputs": [],
   "source": [
    "selection = ds.tas.sel(time=\"1990\", lat=slice(50, 75), lon=slice(0, 22))"
   ]
  },
  {
   "cell_type": "markdown",
   "id": "ecc1fd45-e2bc-4286-a3bb-7d323359244c",
   "metadata": {},
   "source": [
    "Jämför detta med att lista ut vilka index som data ovan ligger på."
   ]
  },
  {
   "cell_type": "markdown",
   "id": "88771667-0533-46e9-8179-ef3d720e1bb5",
   "metadata": {},
   "source": [
    "Här specificerar vi att det ska vara en kartografisk figur genom `subplot_kw={\"projection\": ccrs.PlateCarree()` när vi initierar figuren.\n",
    "Vi lägger sedan till ett grid med `ax.gridlines()`, och kustlinjer med `ax.coastlines()`."
   ]
  },
  {
   "cell_type": "code",
   "execution_count": null,
   "id": "cb36cd59-2939-4cda-b20d-f648a59652b7",
   "metadata": {},
   "outputs": [],
   "source": [
    "fig, ax = plt.subplots(subplot_kw={\"projection\": ccrs.PlateCarree()})\n",
    "selection.mean(dim=\"time\").plot(ax=ax)\n",
    "\n",
    "ax.gridlines(draw_labels=[\"left\", \"bottom\"])\n",
    "ax.coastlines();\n",
    "\n",
    "ax.set_title(\"Average Surface temperature in 1990 for UKESM1-0-LL\");"
   ]
  },
  {
   "cell_type": "markdown",
   "id": "f0faec25-146e-49d0-a190-949cf3324e87",
   "metadata": {},
   "source": [
    "### Gruppera data\n",
    "\n",
    "Med metoden `groupby` kan vi gruppera data baserat på dess underliggande egenskaper.\n",
    "Ett bra exempel för detta är om vi vill beräkna den klimatologiska årscykeln för yttemperaturen baserat på flera år av månadsmedelvärden."
   ]
  },
  {
   "cell_type": "code",
   "execution_count": null,
   "id": "952a067e-b12c-48ee-b85a-dacec04700c3",
   "metadata": {},
   "outputs": [],
   "source": [
    "ds.tas.mean([\"lat\", \"lon\"]).groupby(\"time.month\").mean().plot();\n",
    "plt.title(\"Average annual cycle monthly global mean temperautre\");"
   ]
  },
  {
   "cell_type": "markdown",
   "id": "7859b708-4898-4c28-bbfa-d66fe778fafb",
   "metadata": {},
   "source": [
    "#### Zonalt medelvärde\n",
    "Att beräkna ett zonalt medelvärde innebär att man beräknar medelvärdet för varje latitud (eller längs med longituden).\n",
    "Kombinerar vi detta med att gruppera månaderna och beräkna medelvärdet kan vi skapa ett så kallat [Hovmöller-diagram](https://en.wikipedia.org/wiki/Hovm%C3%B6ller_diagram)."
   ]
  },
  {
   "cell_type": "code",
   "execution_count": null,
   "id": "cd494fba-518f-44d5-9a43-400b769f31ef",
   "metadata": {},
   "outputs": [],
   "source": [
    "fig, ax = plt.subplots()\n",
    "ds.tas.mean(dim=\"lon\").groupby(\"time.month\").mean().plot(ax=ax, yincrease=False);\n",
    "ax.set_title(\"Zonal mean surface temperature\");"
   ]
  },
  {
   "cell_type": "markdown",
   "id": "c5da6cb3-63ba-48c0-8d7f-f50ebadb30f2",
   "metadata": {},
   "source": [
    "# Nästa steg\n",
    "Fortsätt med [Övning 5](02_exercise_5.ipynb)."
   ]
  }
 ],
 "metadata": {
  "kernelspec": {
   "display_name": "Python 3 (ipykernel)",
   "language": "python",
   "name": "python3"
  },
  "language_info": {
   "codemirror_mode": {
    "name": "ipython",
    "version": 3
   },
   "file_extension": ".py",
   "mimetype": "text/x-python",
   "name": "python",
   "nbconvert_exporter": "python",
   "pygments_lexer": "ipython3",
   "version": "3.12.3"
  }
 },
 "nbformat": 4,
 "nbformat_minor": 5
}
