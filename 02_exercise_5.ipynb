{
 "cells": [
  {
   "cell_type": "markdown",
   "id": "ebeda0c8-ec0f-49d0-a9ee-4e172329805c",
   "metadata": {},
   "source": [
    "# Övning 5: Visualisera PlaSim/CMIP6 klimatdata\n",
    "\n",
    "Detta är en notebook där du kan arbeta med övning 5. \n",
    "\n",
    "Lägg till så många celler du behöver."
   ]
  },
  {
   "cell_type": "code",
   "execution_count": null,
   "id": "df2468c6-7e38-41b7-b170-30fa2704ca74",
   "metadata": {},
   "outputs": [],
   "source": [
    "import cartopy.crs as ccrs\n",
    "import matplotlib.pyplot as plt\n",
    "import xarray as xr"
   ]
  },
  {
   "cell_type": "markdown",
   "id": "a6267733-e233-47c8-b3f9-175cdb83e54c",
   "metadata": {},
   "source": [
    "<div class=\"alert alert-success\">\n",
    "<h2>Uppgift 0</h2>\n",
    "Ladda in ditt dataset.\n",
    "    \n",
    "</div>"
   ]
  },
  {
   "cell_type": "code",
   "execution_count": null,
   "id": "c99beff3-c223-4100-bc06-b92931e4a1f5",
   "metadata": {},
   "outputs": [],
   "source": [
    "# Din kod här"
   ]
  },
  {
   "cell_type": "markdown",
   "id": "60fbc265-44c1-47f4-8505-0ff8db7e3b1a",
   "metadata": {},
   "source": [
    "<div class=\"alert alert-success\">\n",
    "<h2>Uppgift 1</h2>\n",
    "Plotta en tidsserie som visar den årliga cykeln av den globala medeltemperaturen för ditt dataset.\n",
    "    \n",
    "</div>"
   ]
  },
  {
   "cell_type": "code",
   "execution_count": null,
   "id": "703842ea-5648-4e05-b4c0-d97ac6ad2dd4",
   "metadata": {},
   "outputs": [],
   "source": [
    "# Din kod här"
   ]
  },
  {
   "cell_type": "markdown",
   "id": "2115948a-21da-4d87-8163-6d6daeaf0cd5",
   "metadata": {},
   "source": [
    "<div class=\"alert alert-success\">\n",
    "<h2>Uppgift 2</h2>\n",
    "Plotta en karta som visar det årliga medelvärdet för den globala medeltemperaturen för ditt dataset.\n",
    "    \n",
    "</div>"
   ]
  },
  {
   "cell_type": "code",
   "execution_count": null,
   "id": "ac57ec2e-fcd9-4422-85ab-09bd1892473c",
   "metadata": {},
   "outputs": [],
   "source": [
    "# Din kod här"
   ]
  },
  {
   "cell_type": "markdown",
   "id": "fe6ae93e-90a5-4a9a-9c6b-833807e31dd2",
   "metadata": {},
   "source": [
    "<div class=\"alert alert-success\">\n",
    "<h2>Uppgift 3</h2>\n",
    "Plotta kartor som visar medelvärdet för den globala medeltemperaturen för två säsonger (MMA och JJA) ditt dataset.\n",
    "Plotta också en karta som visar skillnaden mellan de två säsongerna.\n",
    "    \n",
    "</div>"
   ]
  },
  {
   "cell_type": "code",
   "execution_count": null,
   "id": "38dc66a1-266b-47e9-a485-6938dc99e0fa",
   "metadata": {},
   "outputs": [],
   "source": [
    "# Din kod här"
   ]
  },
  {
   "cell_type": "markdown",
   "id": "b0ff28f7-8ed8-4bff-bf44-d400a7d2cccd",
   "metadata": {},
   "source": [
    "<div class=\"alert alert-success\">\n",
    "<h2>Uppgift 4</h2>\n",
    "Plotta det zonala medelvärdet för temperatur i ditt dataset.\n",
    "    \n",
    "</div>"
   ]
  },
  {
   "cell_type": "code",
   "execution_count": null,
   "id": "f3e10470-791d-422d-ab3a-c9a84ddf85f1",
   "metadata": {},
   "outputs": [],
   "source": [
    "# Din kod här"
   ]
  }
 ],
 "metadata": {
  "kernelspec": {
   "display_name": "Python 3 (ipykernel)",
   "language": "python",
   "name": "python3"
  },
  "language_info": {
   "codemirror_mode": {
    "name": "ipython",
    "version": 3
   },
   "file_extension": ".py",
   "mimetype": "text/x-python",
   "name": "python",
   "nbconvert_exporter": "python",
   "pygments_lexer": "ipython3",
   "version": "3.12.3"
  }
 },
 "nbformat": 4,
 "nbformat_minor": 5
}
